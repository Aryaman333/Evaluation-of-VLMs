{
 "cells": [
  {
   "cell_type": "code",
   "execution_count": 1,
   "metadata": {
    "collapsed": true
   },
   "outputs": [],
   "source": [
    "%matplotlib inline\n",
    "from pycocotools.coco import COCO\n",
    "from pycocoevalcap.eval import COCOEvalCap\n",
    "import matplotlib.pyplot as plt\n",
    "import skimage.io as io\n",
    "import pylab\n",
    "pylab.rcParams['figure.figsize'] = (10.0, 8.0)\n",
    "\n",
    "import json\n",
    "from json import encoder\n",
    "encoder.FLOAT_REPR = lambda o: format(o, '.3f')"
   ]
  },
  {
   "cell_type": "code",
   "execution_count": 2,
   "metadata": {
    "collapsed": true
   },
   "outputs": [
    {
     "name": "stdout",
     "output_type": "stream",
     "text": [
      "Found Stanford CoreNLP.\n",
      "Found Google news word2vec model.\n"
     ]
    }
   ],
   "source": [
    "# set up file names and pathes\n",
    "dataDir='.'\n",
    "dataType='val2014'\n",
    "algName = 'fakecap'\n",
    "annFile='%s/annotations/captions_%s.json'%(dataDir,dataType)\n",
    "subtypes=['results', 'evalImgs', 'eval']\n",
    "[resFile, evalImgsFile, evalFile]= \\\n",
    "['%s/results/captions_%s_%s_%s.json'%(dataDir,dataType,algName,subtype) for subtype in subtypes]\n",
    "\n",
    "# download Stanford models\n",
    "! bash get_stanford_models.sh\n",
    "\n",
    "# download Google word2vec model\n",
    "! bash get_google_word2vec_model.sh"
   ]
  },
  {
   "cell_type": "code",
   "execution_count": 3,
   "metadata": {},
   "outputs": [
    {
     "name": "stdout",
     "output_type": "stream",
     "text": [
      "loading annotations into memory...\n",
      "0:00:00.339247\n",
      "creating index...\n",
      "index created!\n",
      "Loading and preparing results...     \n",
      "DONE (t=0.03s)\n",
      "creating index...\n",
      "index created!\n",
      "Loading and preparing results...     \n",
      "DONE (t=0.02s)\n",
      "creating index...\n",
      "index created!\n",
      "Loading and preparing results...     \n",
      "DONE (t=0.02s)\n",
      "creating index...\n",
      "index created!\n",
      "Loading and preparing results...     \n",
      "DONE (t=0.02s)\n",
      "creating index...\n",
      "index created!\n",
      "Loading and preparing results...     \n",
      "DONE (t=0.02s)\n",
      "creating index...\n",
      "index created!\n"
     ]
    }
   ],
   "source": [
    "# create coco object and cocoRes object\n",
    "coco = COCO(annFile)\n",
    "cocoRes_base = coco.loadRes(resFile)\n",
    "cocoRes_tflan = coco.loadRes('captions_instructblip_flan-t5_results.json')\n",
    "cocoRes_vicuna = coco.loadRes('captions_instructblip_vicuna_results.json')\n",
    "cocoRes_vit_gpt2 = coco.loadRes('captions_vit-gpt2-image-captioning_untrained.json')\n",
    "cocoRes_clip = coco.loadRes('captions_instructblip_clip_results.json')\n",
    "# print(resFile)"
   ]
  },
  {
   "cell_type": "code",
   "execution_count": 4,
   "metadata": {},
   "outputs": [
    {
     "name": "stdout",
     "output_type": "stream",
     "text": [
      "tokenization...\n"
     ]
    },
    {
     "name": "stdout",
     "output_type": "stream",
     "text": [
      "setting up scorers...\n",
      "computing Bleu score...\n",
      "{'testlen': 2385, 'reflen': 2366, 'guess': [2385, 2135, 1885, 1635], 'correct': [1839, 1037, 497, 224]}\n",
      "ratio: 1.0080304311069281\n",
      "Bleu_1: 0.771\n",
      "Bleu_2: 0.612\n",
      "Bleu_3: 0.462\n",
      "Bleu_4: 0.341\n",
      "computing METEOR score...\n",
      "METEOR: 0.278\n",
      "computing Rouge score...\n",
      "ROUGE_L: 0.571\n",
      "computing CIDEr score...\n",
      "CIDEr: 0.868\n",
      "computing CIDEr-R score...\n",
      "CIDEr-R: 0.873\n",
      "computing SPICE score...\n",
      "SPICE: 0.199\n"
     ]
    }
   ],
   "source": [
    "cocoEval_clip = COCOEvalCap(coco, cocoRes_clip)\n",
    "\n",
    "# evaluate on a subset of images by setting\n",
    "# cocoEval.params['image_id'] = cocoRes.getImgIds()\n",
    "# please remove this line when evaluating the full validation set\n",
    "cocoEval_clip.params['image_id'] = cocoRes_clip.getImgIds()\n",
    "\n",
    "# evaluate results\n",
    "# SPICE will take a few minutes the first time, but speeds up due to caching\n",
    "cocoEval_clip.evaluate()"
   ]
  },
  {
   "cell_type": "markdown",
   "metadata": {},
   "source": []
  },
  {
   "cell_type": "code",
   "execution_count": 5,
   "metadata": {},
   "outputs": [
    {
     "name": "stdout",
     "output_type": "stream",
     "text": [
      "tokenization...\n",
      "setting up scorers...\n",
      "computing Bleu score...\n",
      "{'testlen': 9893, 'reflen': 9855, 'guess': [9893, 8893, 7893, 6893], 'correct': [5732, 2510, 1043, 423]}\n",
      "ratio: 1.003855910705124\n",
      "Bleu_1: 0.579\n",
      "Bleu_2: 0.404\n",
      "Bleu_3: 0.279\n",
      "Bleu_4: 0.191\n",
      "computing METEOR score...\n",
      "METEOR: 0.195\n",
      "computing Rouge score...\n",
      "ROUGE_L: 0.396\n",
      "computing CIDEr score...\n",
      "CIDEr: 0.505\n",
      "computing CIDEr-R score...\n",
      "CIDEr-R: 0.523\n",
      "computing SPICE score...\n",
      "SPICE: 0.133\n"
     ]
    }
   ],
   "source": [
    "# create cocoEval object by taking coco and cocoRes\n",
    "cocoEval_base = COCOEvalCap(coco, cocoRes_base)\n",
    "\n",
    "# evaluate on a subset of images by setting\n",
    "# cocoEval.params['image_id'] = cocoRes.getImgIds()\n",
    "# please remove this line when evaluating the full validation set\n",
    "cocoEval_base.params['image_id'] = cocoRes_base.getImgIds()\n",
    "\n",
    "# evaluate results\n",
    "# SPICE will take a few minutes the first time, but speeds up due to caching\n",
    "cocoEval_base.evaluate()"
   ]
  },
  {
   "cell_type": "code",
   "execution_count": 6,
   "metadata": {},
   "outputs": [
    {
     "name": "stdout",
     "output_type": "stream",
     "text": [
      "tokenization...\n",
      "setting up scorers...\n",
      "computing Bleu score...\n",
      "{'testlen': 2459, 'reflen': 2437, 'guess': [2459, 2209, 1959, 1709], 'correct': [2020, 1164, 609, 284]}\n",
      "ratio: 1.0090274928186258\n",
      "Bleu_1: 0.821\n",
      "Bleu_2: 0.658\n",
      "Bleu_3: 0.512\n",
      "Bleu_4: 0.387\n",
      "computing METEOR score...\n",
      "METEOR: 0.297\n",
      "computing Rouge score...\n",
      "ROUGE_L: 0.588\n",
      "computing CIDEr score...\n",
      "CIDEr: 0.977\n",
      "computing CIDEr-R score...\n",
      "CIDEr-R: 0.993\n",
      "computing SPICE score...\n",
      "SPICE: 0.233\n"
     ]
    }
   ],
   "source": [
    "# create cocoEval object by taking coco and cocoRes\n",
    "cocoEval_tflan = COCOEvalCap(coco, cocoRes_tflan)\n",
    "\n",
    "# evaluate on a subset of images by setting\n",
    "# cocoEval.params['image_id'] = cocoRes.getImgIds()\n",
    "# please remove this line when evaluating the full validation set\n",
    "cocoEval_tflan.params['image_id'] = cocoRes_tflan.getImgIds()\n",
    "\n",
    "# evaluate results\n",
    "# SPICE will take a few minutes the first time, but speeds up due to caching\n",
    "cocoEval_tflan.evaluate()"
   ]
  },
  {
   "cell_type": "code",
   "execution_count": 7,
   "metadata": {},
   "outputs": [
    {
     "name": "stdout",
     "output_type": "stream",
     "text": [
      "tokenization...\n",
      "setting up scorers...\n",
      "computing Bleu score...\n",
      "{'testlen': 2854, 'reflen': 2719, 'guess': [2854, 2604, 2354, 2104], 'correct': [2131, 1277, 701, 344]}\n",
      "ratio: 1.0496506068403642\n",
      "Bleu_1: 0.747\n",
      "Bleu_2: 0.605\n",
      "Bleu_3: 0.478\n",
      "Bleu_4: 0.365\n",
      "computing METEOR score...\n",
      "METEOR: 0.305\n",
      "computing Rouge score...\n",
      "ROUGE_L: 0.570\n",
      "computing CIDEr score...\n",
      "CIDEr: 0.952\n",
      "computing CIDEr-R score...\n",
      "CIDEr-R: 0.969\n",
      "computing SPICE score...\n",
      "SPICE: 0.241\n"
     ]
    }
   ],
   "source": [
    "# create cocoEval object by taking coco and cocoRes\n",
    "cocoEval_vicuna = COCOEvalCap(coco, cocoRes_vicuna)\n",
    "\n",
    "# evaluate on a subset of images by setting\n",
    "# cocoEval.params['image_id'] = cocoRes.getImgIds()\n",
    "# please remove this line when evaluating the full validation set\n",
    "cocoEval_vicuna.params['image_id'] = cocoRes_vicuna.getImgIds()\n",
    "\n",
    "# evaluate results\n",
    "# SPICE will take a few minutes the first time, but speeds up due to caching\n",
    "cocoEval_vicuna.evaluate()"
   ]
  },
  {
   "cell_type": "code",
   "execution_count": 8,
   "metadata": {},
   "outputs": [
    {
     "name": "stdout",
     "output_type": "stream",
     "text": [
      "tokenization...\n",
      "setting up scorers...\n",
      "computing Bleu score...\n",
      "{'testlen': 2874, 'reflen': 2706, 'guess': [2874, 2624, 2374, 2124], 'correct': [1971, 980, 459, 217]}\n",
      "ratio: 1.062084257205816\n",
      "Bleu_1: 0.686\n",
      "Bleu_2: 0.506\n",
      "Bleu_3: 0.367\n",
      "Bleu_4: 0.267\n",
      "computing METEOR score...\n",
      "METEOR: 0.244\n",
      "computing Rouge score...\n",
      "ROUGE_L: 0.507\n",
      "computing CIDEr score...\n",
      "CIDEr: 0.732\n",
      "computing CIDEr-R score...\n",
      "CIDEr-R: 0.765\n",
      "computing SPICE score...\n",
      "SPICE: 0.165\n"
     ]
    }
   ],
   "source": [
    "# create cocoEval object by taking coco and cocoRes\n",
    "cocoEval_vit_gpt2 = COCOEvalCap(coco, cocoRes_vit_gpt2)\n",
    "\n",
    "# evaluate on a subset of images by setting\n",
    "# cocoEval.params['image_id'] = cocoRes.getImgIds()\n",
    "# please remove this line when evaluating the full validation set\n",
    "cocoEval_vit_gpt2.params['image_id'] = cocoRes_vit_gpt2.getImgIds()\n",
    "\n",
    "# evaluate results\n",
    "# SPICE will take a few minutes the first time, but speeds up due to caching\n",
    "cocoEval_vit_gpt2.evaluate()"
   ]
  },
  {
   "cell_type": "code",
   "execution_count": 9,
   "metadata": {},
   "outputs": [
    {
     "name": "stdout",
     "output_type": "stream",
     "text": [
      "Base results\n",
      "Bleu_1: 0.579\n",
      "Bleu_2: 0.404\n",
      "Bleu_3: 0.279\n",
      "Bleu_4: 0.191\n",
      "METEOR: 0.195\n",
      "ROUGE_L: 0.396\n",
      "CIDEr: 0.505\n",
      "CIDEr-R: 0.523\n",
      "SPICE: 0.133\n",
      "**************************************************************************\n",
      "flan-t5-XL results\n",
      "Bleu_1: 0.821\n",
      "Bleu_2: 0.658\n",
      "Bleu_3: 0.512\n",
      "Bleu_4: 0.387\n",
      "METEOR: 0.297\n",
      "ROUGE_L: 0.588\n",
      "CIDEr: 0.977\n",
      "CIDEr-R: 0.993\n",
      "SPICE: 0.233\n",
      "**************************************************************************\n",
      "Vicuna results\n",
      "Bleu_1: 0.747\n",
      "Bleu_2: 0.605\n",
      "Bleu_3: 0.478\n",
      "Bleu_4: 0.365\n",
      "METEOR: 0.305\n",
      "ROUGE_L: 0.570\n",
      "CIDEr: 0.952\n",
      "CIDEr-R: 0.969\n",
      "SPICE: 0.241\n",
      "**************************************************************************\n",
      "ViT-gpt2 results\n",
      "Bleu_1: 0.686\n",
      "Bleu_2: 0.506\n",
      "Bleu_3: 0.367\n",
      "Bleu_4: 0.267\n",
      "METEOR: 0.244\n",
      "ROUGE_L: 0.507\n",
      "CIDEr: 0.732\n",
      "CIDEr-R: 0.765\n",
      "SPICE: 0.165\n",
      "**************************************************************************\n",
      "CLIP results\n",
      "Bleu_1: 0.771\n",
      "Bleu_2: 0.612\n",
      "Bleu_3: 0.462\n",
      "Bleu_4: 0.341\n",
      "METEOR: 0.278\n",
      "ROUGE_L: 0.571\n",
      "CIDEr: 0.868\n",
      "CIDEr-R: 0.873\n",
      "SPICE: 0.199\n"
     ]
    }
   ],
   "source": [
    "# print output evaluation scores\n",
    "print(\"Base results\")\n",
    "for metric, score in cocoEval_base.eval.items():\n",
    "    print('%s: %.3f'%(metric, score))\n",
    "\n",
    "print(\"**************************************************************************\")\n",
    "print(\"flan-t5-XL results\")\n",
    "for metric, score in cocoEval_tflan.eval.items():\n",
    "    print('%s: %.3f'%(metric, score))\n",
    "\n",
    "print(\"**************************************************************************\")\n",
    "print(\"Vicuna results\")\n",
    "for metric, score in cocoEval_vicuna.eval.items():\n",
    "    print('%s: %.3f'%(metric, score))\n",
    "\n",
    "print(\"**************************************************************************\")\n",
    "print(\"ViT-gpt2 results\")\n",
    "for metric, score in cocoEval_vit_gpt2.eval.items():\n",
    "    print('%s: %.3f'%(metric, score))\n",
    "\n",
    "print(\"**************************************************************************\")\n",
    "print(\"CLIP results\")\n",
    "for metric, score in cocoEval_clip.eval.items():\n",
    "    print('%s: %.3f'%(metric, score))"
   ]
  }
 ],
 "metadata": {
  "kernelspec": {
   "display_name": "Python 3",
   "language": "python",
   "name": "python3"
  },
  "language_info": {
   "codemirror_mode": {
    "name": "ipython",
    "version": 3
   },
   "file_extension": ".py",
   "mimetype": "text/x-python",
   "name": "python",
   "nbconvert_exporter": "python",
   "pygments_lexer": "ipython3",
   "version": "3.9.13"
  }
 },
 "nbformat": 4,
 "nbformat_minor": 1
}
