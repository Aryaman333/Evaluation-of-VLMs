{
 "cells": [
  {
   "cell_type": "code",
   "execution_count": 1,
   "metadata": {},
   "outputs": [],
   "source": [
    "%matplotlib inline\n",
    "from pycocotools.coco import COCO\n",
    "from pycocoevalcap.eval import COCOEvalCap\n",
    "from pycocoevalcap.eval_spice import COCOEvalCapSpice\n",
    "\n",
    "import matplotlib.pyplot as plt\n",
    "import skimage.io as io\n",
    "import pylab\n",
    "pylab.rcParams['figure.figsize'] = (10.0, 8.0)\n",
    "\n",
    "import json\n",
    "from json import encoder\n",
    "import os\n",
    "encoder.FLOAT_REPR = lambda o: format(o, '.3f')"
   ]
  },
  {
   "cell_type": "code",
   "execution_count": 3,
   "metadata": {},
   "outputs": [
    {
     "name": "stdout",
     "output_type": "stream",
     "text": [
      "Found Stanford CoreNLP.\n"
     ]
    }
   ],
   "source": [
    "# set up file names and pathes\n",
    "dataDir='.'\n",
    "dataType='val2014'\n",
    "algName = 'fakecap'\n",
    "annFile='%s/annotations/captions_%s.json'%(dataDir,dataType)\n",
    "subtypes=['results', 'evalImgs', 'eval']\n",
    "[resFile, evalImgsFile, evalFile]= \\\n",
    "['%s/results/captions_%s_%s_%s.json'%(dataDir,dataType,algName,subtype) for subtype in subtypes]\n",
    "\n",
    "# download Stanford models\n",
    "! bash get_stanford_models.sh\n",
    "\n",
    "# download Google word2vec model\n",
    "# ! bash get_google_word2vec_model.sh"
   ]
  },
  {
   "cell_type": "code",
   "execution_count": 5,
   "metadata": {},
   "outputs": [
    {
     "name": "stdout",
     "output_type": "stream",
     "text": [
      "loading annotations into memory...\n",
      "0:00:00.570126\n",
      "creating index...\n",
      "index created!\n",
      "Loading and preparing results...     \n",
      "DONE (t=0.06s)\n",
      "creating index...\n",
      "index created!\n",
      "tokenization...\n",
      "setting up scorers...\n",
      "computing SPICE score...\n",
      "SPICE: 0.233\n"
     ]
    }
   ],
   "source": [
    "import tempfile\n",
    "preds = json.load(open(resFile, 'r'))\n",
    "# Create fake predictions\n",
    "for i in range(1, len(preds), 2):\n",
    "    preds[i]['image_id'] = preds[i-1]['image_id']\n",
    "# tmp_resFile = tempfile.NamedTemporaryFile('w+')\n",
    "# tmp_resFile.write(json.dumps(preds))\n",
    "# print(tmp_resFile)\n",
    "\n",
    "with open('temp.json', 'w') as file:\n",
    "    json.dump(preds,file)\n",
    "\n",
    "with open('temp.json', 'r') as file:\n",
    "    tmp_resFile = json.load(file)\n",
    "\n",
    "preds[:10]\n",
    "\n",
    "coco = COCO(annFile)\n",
    "cocoRes_n = coco.loadRes('captions_instructblip_flan-t5_results.json')\n",
    "cocoEvalAllSPICE = COCOEvalCapSpice(coco, cocoRes_n)\n",
    "cocoEvalAllSPICE.params['image_id'] = cocoRes_n.getImgIds()\n",
    "cocoEvalAllSPICE.evaluate()\n",
    "# tmp_resFile.close()\n"
   ]
  },
  {
   "cell_type": "code",
   "execution_count": 31,
   "metadata": {},
   "outputs": [
    {
     "name": "stdout",
     "output_type": "stream",
     "text": [
      "AllSPICE: 0.121\n"
     ]
    }
   ],
   "source": [
    "# print output evaluation scores\n",
    "for metric, score in cocoEvalAllSPICE.eval.items():\n",
    "    print('%s: %.3f'%('All'+metric, score))"
   ]
  },
  {
   "cell_type": "code",
   "execution_count": 6,
   "metadata": {},
   "outputs": [
    {
     "name": "stdout",
     "output_type": "stream",
     "text": [
      "loading annotations into memory...\n",
      "0:00:00.252765\n",
      "creating index...\n",
      "index created!\n",
      "Loading and preparing results...     \n",
      "DONE (t=0.11s)\n",
      "creating index...\n",
      "index created!\n",
      "tokenization...\n",
      "setting up scorers...\n",
      "computing SPICE score...\n",
      "SPICE: 0.241\n"
     ]
    }
   ],
   "source": [
    "import tempfile\n",
    "preds = json.load(open(resFile, 'r'))\n",
    "# Create fake predictions\n",
    "for i in range(1, len(preds), 2):\n",
    "    preds[i]['image_id'] = preds[i-1]['image_id']\n",
    "# tmp_resFile = tempfile.NamedTemporaryFile('w+')\n",
    "# tmp_resFile.write(json.dumps(preds))\n",
    "# print(tmp_resFile)\n",
    "\n",
    "with open('temp.json', 'w') as file:\n",
    "    json.dump(preds,file)\n",
    "\n",
    "with open('temp.json', 'r') as file:\n",
    "    tmp_resFile = json.load(file)\n",
    "\n",
    "preds[:10]\n",
    "\n",
    "coco = COCO(annFile)\n",
    "cocoRes_n = coco.loadRes('captions_instructblip_vicuna_results.json')\n",
    "cocoEvalAllSPICE = COCOEvalCapSpice(coco, cocoRes_n)\n",
    "cocoEvalAllSPICE.params['image_id'] = cocoRes_n.getImgIds()\n",
    "cocoEvalAllSPICE.evaluate()\n",
    "# tmp_resFile.close()\n"
   ]
  },
  {
   "cell_type": "code",
   "execution_count": null,
   "metadata": {},
   "outputs": [],
   "source": []
  }
 ],
 "metadata": {
  "kernelspec": {
   "display_name": "Python 3",
   "language": "python",
   "name": "python3"
  },
  "language_info": {
   "codemirror_mode": {
    "name": "ipython",
    "version": 3
   },
   "file_extension": ".py",
   "mimetype": "text/x-python",
   "name": "python",
   "nbconvert_exporter": "python",
   "pygments_lexer": "ipython3",
   "version": "3.9.13"
  }
 },
 "nbformat": 4,
 "nbformat_minor": 1
}
